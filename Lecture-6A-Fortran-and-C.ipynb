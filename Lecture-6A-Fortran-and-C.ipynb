{
 "metadata": {
  "kernelspec": {
   "display_name": "Python 3",
   "language": "python",
   "name": "python3"
  },
  "language_info": {
   "codemirror_mode": {
    "name": "ipython",
    "version": 3
   },
   "file_extension": ".py",
   "mimetype": "text/x-python",
   "name": "python",
   "nbconvert_exporter": "python",
   "pygments_lexer": "ipython3",
   "version": "3.4.3"
  },
  "name": ""
 },
 "nbformat": 3,
 "nbformat_minor": 0,
 "worksheets": [
  {
   "cells": [
    {
     "cell_type": "markdown",
     "metadata": {},
     "source": [
      "![Continuum Logo](./images/Continuum_Logo_0702.png)"
     ]
    },
    {
     "cell_type": "heading",
     "level": 1,
     "metadata": {},
     "source": [
      "Using Fortran and C code with Python"
     ]
    },
    {
     "cell_type": "markdown",
     "metadata": {},
     "source": [
      "This curriculum builds on material by J. Robert Johansson from his \"Introduction to scientific computing with Python,\" generously made available under a [Creative Commons Attribution 3.0 Unported License](http://creativecommons.org/licenses/by/3.0/) at https://github.com/jrjohansson/scientific-python-lectures. The Continuum Analytics enhancements use the [Creative Commons Attribution-NonCommercial 4.0 International License](https://creativecommons.org/licenses/by-nc/4.0/).\n",
      "\n",
      "****\n"
     ]
    },
    {
     "cell_type": "code",
     "collapsed": false,
     "input": [
      "%pylab inline\n",
      "from IPython.display import Image"
     ],
     "language": "python",
     "metadata": {},
     "outputs": []
    },
    {
     "cell_type": "markdown",
     "metadata": {},
     "source": [
      "The advantage of Python is that it is flexible and easy to program. The time it takes to setup a new calulation is therefore short. But for certain types of calculations Python (and any other interpreted language) can be very slow. It is particularly iterations over large arrays that is difficult to do efficiently.\n",
      "\n",
      "Such calculations may be implemented in a compiled language such as C or Fortran. In Python it is relatively easy to call out to libraries with compiled C or Fortran code. In this lecture we will look at how to do that.\n",
      "\n",
      "But before we go ahead and work on optimizing anything, it is always worthwhile to ask.... "
     ]
    },
    {
     "cell_type": "code",
     "collapsed": false,
     "input": [
      "Image(filename='images/optimizing-what.png')"
     ],
     "language": "python",
     "metadata": {},
     "outputs": []
    },
    {
     "cell_type": "heading",
     "level": 2,
     "metadata": {},
     "source": [
      "Fortran"
     ]
    },
    {
     "cell_type": "heading",
     "level": 3,
     "metadata": {},
     "source": [
      "F2PY"
     ]
    },
    {
     "cell_type": "markdown",
     "metadata": {},
     "source": [
      "F2PY is a program that (almost) automatically wraps fortran code for use in Python: By using the `f2py` program we can compile fortran code into a module that we can import in a Python program.\n",
      "\n",
      "F2PY is a part of NumPy, but you will also need to have a fortran compiler to run the examples below."
     ]
    },
    {
     "cell_type": "heading",
     "level": 3,
     "metadata": {},
     "source": [
      "Example 0: scalar input, no output"
     ]
    },
    {
     "cell_type": "code",
     "collapsed": false,
     "input": [
      "%%file hellofortran.f\n",
      "C File  hellofortran.f\n",
      "        subroutine hellofortran (n)\n",
      "        integer n\n",
      "       \n",
      "        do 100 i=0, n\n",
      "            print *, \"Fortran says hello\"\n",
      "100     continue\n",
      "        end"
     ],
     "language": "python",
     "metadata": {},
     "outputs": []
    },
    {
     "cell_type": "markdown",
     "metadata": {},
     "source": [
      "Generate a python module using `f2py`:"
     ]
    },
    {
     "cell_type": "code",
     "collapsed": false,
     "input": [
      "!f2py3 -c -m hellofortran hellofortran.f"
     ],
     "language": "python",
     "metadata": {},
     "outputs": []
    },
    {
     "cell_type": "markdown",
     "metadata": {},
     "source": [
      "Example of a python script that use the module:"
     ]
    },
    {
     "cell_type": "code",
     "collapsed": false,
     "input": [
      "%%file hello.py\n",
      "import hellofortran\n",
      "\n",
      "hellofortran.hellofortran(5)"
     ],
     "language": "python",
     "metadata": {},
     "outputs": []
    },
    {
     "cell_type": "code",
     "collapsed": false,
     "input": [
      "# run the script\n",
      "!python hello.py"
     ],
     "language": "python",
     "metadata": {},
     "outputs": []
    },
    {
     "cell_type": "heading",
     "level": 3,
     "metadata": {},
     "source": [
      "Example 1: vector input and scalar output"
     ]
    },
    {
     "cell_type": "code",
     "collapsed": false,
     "input": [
      "%%file dprod.f\n",
      "\n",
      "       subroutine dprod(x, y, n)\n",
      "    \n",
      "       double precision x(n), y\n",
      "       y = 1.0\n",
      "    \n",
      "       do 100 i=1, n\n",
      "           y = y * x(i)\n",
      "100    continue\n",
      "       end"
     ],
     "language": "python",
     "metadata": {},
     "outputs": []
    },
    {
     "cell_type": "code",
     "collapsed": false,
     "input": [
      "!rm -f dprod.pyf\n",
      "!f2py3 -m dprod -h dprod.pyf dprod.f"
     ],
     "language": "python",
     "metadata": {},
     "outputs": []
    },
    {
     "cell_type": "markdown",
     "metadata": {},
     "source": [
      "The `f2py` program generated a module declaration file called `dsum.pyf`. Let's look what's in it:"
     ]
    },
    {
     "cell_type": "code",
     "collapsed": false,
     "input": [
      "!cat dprod.pyf"
     ],
     "language": "python",
     "metadata": {},
     "outputs": []
    },
    {
     "cell_type": "markdown",
     "metadata": {},
     "source": [
      "The module does not know what Fortran subroutine arguments is input and output, so we need to manually edit the module declaration files and mark output variables with `intent(out)` and input variable with `intent(in)`:"
     ]
    },
    {
     "cell_type": "code",
     "collapsed": false,
     "input": [
      "%%file dprod.pyf\n",
      "python module dprod ! in \n",
      "    interface  ! in :dprod\n",
      "        subroutine dprod(x,y,n) ! in :dprod:dprod.f\n",
      "            double precision dimension(n), intent(in) :: x\n",
      "            double precision, intent(out) :: y\n",
      "            integer, optional,check(len(x)>=n),depend(x),intent(in) :: n=len(x)\n",
      "        end subroutine dprod\n",
      "    end interface \n",
      "end python module dprod"
     ],
     "language": "python",
     "metadata": {},
     "outputs": []
    },
    {
     "cell_type": "markdown",
     "metadata": {},
     "source": [
      "Compile the fortran code into a module that can be included in python:"
     ]
    },
    {
     "cell_type": "code",
     "collapsed": false,
     "input": [
      "!f2py3 -c dprod.pyf dprod.f"
     ],
     "language": "python",
     "metadata": {},
     "outputs": []
    },
    {
     "cell_type": "heading",
     "level": 4,
     "metadata": {},
     "source": [
      "Using the module from Python"
     ]
    },
    {
     "cell_type": "code",
     "collapsed": false,
     "input": [
      "import dprod"
     ],
     "language": "python",
     "metadata": {},
     "outputs": []
    },
    {
     "cell_type": "code",
     "collapsed": false,
     "input": [
      "help(dprod)"
     ],
     "language": "python",
     "metadata": {},
     "outputs": []
    },
    {
     "cell_type": "code",
     "collapsed": false,
     "input": [
      "dprod.dprod(arange(1,50))"
     ],
     "language": "python",
     "metadata": {},
     "outputs": []
    },
    {
     "cell_type": "code",
     "collapsed": false,
     "input": [
      "# compare to numpy\n",
      "prod(arange(1.0,50.0))"
     ],
     "language": "python",
     "metadata": {},
     "outputs": []
    },
    {
     "cell_type": "code",
     "collapsed": false,
     "input": [
      "dprod.dprod(arange(1,10), 5) # only the 5 first elements"
     ],
     "language": "python",
     "metadata": {},
     "outputs": []
    },
    {
     "cell_type": "markdown",
     "metadata": {},
     "source": [
      "Compare performance:"
     ]
    },
    {
     "cell_type": "code",
     "collapsed": false,
     "input": [
      "xvec = rand(500)"
     ],
     "language": "python",
     "metadata": {},
     "outputs": []
    },
    {
     "cell_type": "code",
     "collapsed": false,
     "input": [
      "timeit dprod.dprod(xvec)"
     ],
     "language": "python",
     "metadata": {},
     "outputs": []
    },
    {
     "cell_type": "code",
     "collapsed": false,
     "input": [
      "timeit xvec.prod()"
     ],
     "language": "python",
     "metadata": {},
     "outputs": []
    },
    {
     "cell_type": "heading",
     "level": 3,
     "metadata": {},
     "source": [
      "Example 2: cumulative sum, vector input and vector output"
     ]
    },
    {
     "cell_type": "markdown",
     "metadata": {},
     "source": [
      "The cummulative sum function for an array of data is a good example of a loop intense algorithm: Loop through a vector and store the cummulative sum in another vector."
     ]
    },
    {
     "cell_type": "code",
     "collapsed": false,
     "input": [
      "# simple python algorithm: example of a SLOW implementation\n",
      "# Why? Because the loop is implemented in python.\n",
      "def py_dcumsum(a):\n",
      "    b = empty_like(a)\n",
      "    b[0] = a[0]\n",
      "    for n in range(1,len(a)):\n",
      "        b[n] = b[n-1]+a[n]\n",
      "    return b"
     ],
     "language": "python",
     "metadata": {},
     "outputs": []
    },
    {
     "cell_type": "markdown",
     "metadata": {},
     "source": [
      "Fortran subroutine for the same thing: here we have added the `intent(in)` and `intent(out)` as comment lines in the original fortran code, so we do not need to manually edit the fortran module declaration file generated by `f2py`. "
     ]
    },
    {
     "cell_type": "code",
     "collapsed": false,
     "input": [
      "%%file dcumsum.f\n",
      "c File dcumsum.f\n",
      "       subroutine dcumsum(a, b, n)\n",
      "       double precision a(n)\n",
      "       double precision b(n)\n",
      "       integer n\n",
      "cf2py  intent(in) :: a\n",
      "cf2py  intent(out) :: b\n",
      "cf2py  intent(hide) :: n\n",
      "\n",
      "       b(1) = a(1)\n",
      "       do 100 i=2, n\n",
      "           b(i) = b(i-1) + a(i)\n",
      "100    continue\n",
      "       end"
     ],
     "language": "python",
     "metadata": {},
     "outputs": []
    },
    {
     "cell_type": "markdown",
     "metadata": {},
     "source": [
      "We can directly compile the fortran code to a python module:"
     ]
    },
    {
     "cell_type": "code",
     "collapsed": false,
     "input": [
      "!f2py3 -c dcumsum.f -m dcumsum"
     ],
     "language": "python",
     "metadata": {},
     "outputs": []
    },
    {
     "cell_type": "code",
     "collapsed": false,
     "input": [
      "import dcumsum"
     ],
     "language": "python",
     "metadata": {},
     "outputs": []
    },
    {
     "cell_type": "code",
     "collapsed": false,
     "input": [
      "a = array([1.0,2.0,3.0,4.0,5.0,6.0,7.0,8.0])"
     ],
     "language": "python",
     "metadata": {},
     "outputs": []
    },
    {
     "cell_type": "code",
     "collapsed": false,
     "input": [
      "py_dcumsum(a)"
     ],
     "language": "python",
     "metadata": {},
     "outputs": []
    },
    {
     "cell_type": "code",
     "collapsed": false,
     "input": [
      "dcumsum.dcumsum(a)"
     ],
     "language": "python",
     "metadata": {},
     "outputs": []
    },
    {
     "cell_type": "code",
     "collapsed": false,
     "input": [
      "cumsum(a)"
     ],
     "language": "python",
     "metadata": {},
     "outputs": []
    },
    {
     "cell_type": "markdown",
     "metadata": {},
     "source": [
      "Benchmark the different implementations:"
     ]
    },
    {
     "cell_type": "code",
     "collapsed": false,
     "input": [
      "a = rand(10000)"
     ],
     "language": "python",
     "metadata": {},
     "outputs": []
    },
    {
     "cell_type": "code",
     "collapsed": false,
     "input": [
      "timeit py_dcumsum(a)"
     ],
     "language": "python",
     "metadata": {},
     "outputs": []
    },
    {
     "cell_type": "code",
     "collapsed": false,
     "input": [
      "timeit dcumsum.dcumsum(a)"
     ],
     "language": "python",
     "metadata": {},
     "outputs": []
    },
    {
     "cell_type": "code",
     "collapsed": false,
     "input": [
      "timeit a.cumsum()"
     ],
     "language": "python",
     "metadata": {},
     "outputs": []
    },
    {
     "cell_type": "heading",
     "level": 3,
     "metadata": {},
     "source": [
      "Further reading"
     ]
    },
    {
     "cell_type": "markdown",
     "metadata": {},
     "source": [
      "1. http://www.scipy.org/F2py\n",
      "1. http://dsnra.jpl.nasa.gov/software/Python/F2PY_tutorial.pdf\n",
      "1. http://www.shocksolution.com/2009/09/f2py-binding-fortran-python/"
     ]
    },
    {
     "cell_type": "heading",
     "level": 2,
     "metadata": {},
     "source": [
      "C"
     ]
    },
    {
     "cell_type": "heading",
     "level": 2,
     "metadata": {},
     "source": [
      "ctypes"
     ]
    },
    {
     "cell_type": "markdown",
     "metadata": {},
     "source": [
      "ctypes is a Python library for calling out to C code. It is not as automatic as `f2py`, and we manually need to load the library and set properties such as the functions return and argument types. On the otherhand we do not need to touch the C code at all. "
     ]
    },
    {
     "cell_type": "code",
     "collapsed": false,
     "input": [
      "%%file functions.c\n",
      "\n",
      "#include <stdio.h>\n",
      "\n",
      "void hello(int n);\n",
      "\n",
      "double dprod(double *x, int n);\n",
      "\n",
      "void dcumsum(double *a, double *b, int n);\n",
      "\n",
      "void\n",
      "hello(int n)\n",
      "{\n",
      "    int i;\n",
      "    \n",
      "    for (i = 0; i < n; i++)\n",
      "    {\n",
      "        printf(\"C says hello\\n\");\n",
      "    }\n",
      "}\n",
      "\n",
      "\n",
      "double \n",
      "dprod(double *x, int n)\n",
      "{\n",
      "    int i;\n",
      "    double y = 1.0;\n",
      "    \n",
      "    for (i = 0; i < n; i++)\n",
      "    {\n",
      "        y *= x[i];\n",
      "    }\n",
      "\n",
      "    return y;\n",
      "}\n",
      "\n",
      "void\n",
      "dcumsum(double *a, double *b, int n)\n",
      "{\n",
      "    int i;\n",
      "    \n",
      "    b[0] = a[0];\n",
      "    for (i = 1; i < n; i++)\n",
      "    {\n",
      "        b[i] = a[i] + b[i-1];\n",
      "    }\n",
      "}"
     ],
     "language": "python",
     "metadata": {},
     "outputs": []
    },
    {
     "cell_type": "markdown",
     "metadata": {},
     "source": [
      "Compile the C file into a shared library:"
     ]
    },
    {
     "cell_type": "code",
     "collapsed": false,
     "input": [
      "!gcc -c -Wall -O2 -Wall -ansi -pedantic -fPIC -o functions.o functions.c\n",
      "!gcc -o libfunctions.so -shared functions.o"
     ],
     "language": "python",
     "metadata": {},
     "outputs": []
    },
    {
     "cell_type": "markdown",
     "metadata": {},
     "source": [
      "The result is a compiled shared library `libfunctions.so`:"
     ]
    },
    {
     "cell_type": "code",
     "collapsed": false,
     "input": [
      "!file libfunctions.so"
     ],
     "language": "python",
     "metadata": {},
     "outputs": []
    },
    {
     "cell_type": "markdown",
     "metadata": {},
     "source": [
      "Now we need to write wrapper functions to access the C library: To load the library we use the ctypes package, which included in the Python standard library (with extensions from numpy for passing arrays to C). Then we manually set the types of the argument and return values (no automatic code inspection here!). "
     ]
    },
    {
     "cell_type": "code",
     "collapsed": false,
     "input": [
      "%%file functions.py\n",
      "\n",
      "import numpy\n",
      "import ctypes\n",
      "\n",
      "_libfunctions = numpy.ctypeslib.load_library('libfunctions', '.')\n",
      "\n",
      "_libfunctions.hello.argtypes = [ctypes.c_int]\n",
      "_libfunctions.hello.restype  =  ctypes.c_void_p\n",
      "\n",
      "_libfunctions.dprod.argtypes = [numpy.ctypeslib.ndpointer(dtype=numpy.float), ctypes.c_int]\n",
      "_libfunctions.dprod.restype  = ctypes.c_double\n",
      "\n",
      "_libfunctions.dcumsum.argtypes = [numpy.ctypeslib.ndpointer(dtype=numpy.float), numpy.ctypeslib.ndpointer(dtype=numpy.float), ctypes.c_int]\n",
      "_libfunctions.dcumsum.restype  = ctypes.c_void_p\n",
      "\n",
      "def hello(n):\n",
      "    return _libfunctions.hello(int(n))\n",
      "\n",
      "def dprod(x, n=None):\n",
      "    if n is None:\n",
      "        n = len(x)\n",
      "    x = numpy.asarray(x, dtype=numpy.float)\n",
      "    return _libfunctions.dprod(x, int(n))\n",
      "\n",
      "def dcumsum(a, n):\n",
      "    a = numpy.asarray(a, dtype=numpy.float)\n",
      "    b = numpy.empty(len(a), dtype=numpy.float)\n",
      "    _libfunctions.dcumsum(a, b, int(n))\n",
      "    return b"
     ],
     "language": "python",
     "metadata": {},
     "outputs": []
    },
    {
     "cell_type": "code",
     "collapsed": false,
     "input": [
      "%%file run_hello_c.py\n",
      "\n",
      "import functions\n",
      "\n",
      "functions.hello(3)"
     ],
     "language": "python",
     "metadata": {},
     "outputs": []
    },
    {
     "cell_type": "code",
     "collapsed": false,
     "input": [
      "!python run_hello_c.py"
     ],
     "language": "python",
     "metadata": {},
     "outputs": []
    },
    {
     "cell_type": "code",
     "collapsed": false,
     "input": [
      "import functions"
     ],
     "language": "python",
     "metadata": {},
     "outputs": []
    },
    {
     "cell_type": "heading",
     "level": 3,
     "metadata": {},
     "source": [
      "Product function:"
     ]
    },
    {
     "cell_type": "code",
     "collapsed": false,
     "input": [
      "functions.dprod([1,2,3,4,5]) "
     ],
     "language": "python",
     "metadata": {},
     "outputs": []
    },
    {
     "cell_type": "heading",
     "level": 3,
     "metadata": {},
     "source": [
      "Cumulative sum:"
     ]
    },
    {
     "cell_type": "code",
     "collapsed": false,
     "input": [
      "a = rand(100000)"
     ],
     "language": "python",
     "metadata": {},
     "outputs": []
    },
    {
     "cell_type": "code",
     "collapsed": false,
     "input": [
      "res_c = functions.dcumsum(a, len(a)) "
     ],
     "language": "python",
     "metadata": {},
     "outputs": []
    },
    {
     "cell_type": "code",
     "collapsed": false,
     "input": [
      "res_fortran = dcumsum.dcumsum(a)"
     ],
     "language": "python",
     "metadata": {},
     "outputs": []
    },
    {
     "cell_type": "code",
     "collapsed": false,
     "input": [
      "res_c - res_fortran"
     ],
     "language": "python",
     "metadata": {},
     "outputs": []
    },
    {
     "cell_type": "heading",
     "level": 3,
     "metadata": {},
     "source": [
      "Simple benchmark"
     ]
    },
    {
     "cell_type": "code",
     "collapsed": false,
     "input": [
      "timeit functions.dcumsum(a, len(a))"
     ],
     "language": "python",
     "metadata": {},
     "outputs": []
    },
    {
     "cell_type": "code",
     "collapsed": false,
     "input": [
      "timeit dcumsum.dcumsum(a)"
     ],
     "language": "python",
     "metadata": {},
     "outputs": []
    },
    {
     "cell_type": "code",
     "collapsed": false,
     "input": [
      "timeit a.cumsum()"
     ],
     "language": "python",
     "metadata": {},
     "outputs": []
    },
    {
     "cell_type": "heading",
     "level": 3,
     "metadata": {},
     "source": [
      "Further reading"
     ]
    },
    {
     "cell_type": "markdown",
     "metadata": {},
     "source": [
      "* http://docs.python.org/2/library/ctypes.html\n",
      "* http://www.scipy.org/Cookbook/Ctypes"
     ]
    },
    {
     "cell_type": "heading",
     "level": 2,
     "metadata": {},
     "source": [
      "Cython"
     ]
    },
    {
     "cell_type": "markdown",
     "metadata": {},
     "source": [
      "A hybrid between python and C that can be compiled: Basically Python code with type declarations."
     ]
    },
    {
     "cell_type": "code",
     "collapsed": false,
     "input": [
      "%%file cy_dcumsum.pyx\n",
      "\n",
      "cimport numpy\n",
      "\n",
      "def dcumsum(numpy.ndarray[numpy.float64_t, ndim=1] a, numpy.ndarray[numpy.float64_t, ndim=1] b):\n",
      "    cdef int i, n = len(a)\n",
      "    b[0] = a[0]\n",
      "    for i from 1 <= i < n:\n",
      "        b[i] = b[i-1] + a[i]\n",
      "    return b"
     ],
     "language": "python",
     "metadata": {},
     "outputs": []
    },
    {
     "cell_type": "markdown",
     "metadata": {},
     "source": [
      "A build file for generating C code and compiling it into a Python module."
     ]
    },
    {
     "cell_type": "code",
     "collapsed": false,
     "input": [
      "%%file setup.py\n",
      "import numpy\n",
      "from distutils.core import setup\n",
      "from distutils.extension import Extension\n",
      "from Cython.Distutils import build_ext\n",
      "\n",
      "setup(\n",
      "    cmdclass = {'build_ext': build_ext},\n",
      "    ext_modules = [Extension(\"cy_dcumsum\", [\"cy_dcumsum.pyx\"], include_dirs=[numpy.get_include()]),\n",
      "    ],\n",
      ")"
     ],
     "language": "python",
     "metadata": {},
     "outputs": []
    },
    {
     "cell_type": "code",
     "collapsed": false,
     "input": [
      "!python setup.py build_ext --inplace"
     ],
     "language": "python",
     "metadata": {},
     "outputs": []
    },
    {
     "cell_type": "code",
     "collapsed": false,
     "input": [
      "import cy_dcumsum"
     ],
     "language": "python",
     "metadata": {},
     "outputs": []
    },
    {
     "cell_type": "code",
     "collapsed": false,
     "input": [
      "a = array([1,2,3,4], dtype=float)\n",
      "b = empty_like(a)\n",
      "cy_dcumsum.dcumsum(a,b)\n",
      "b"
     ],
     "language": "python",
     "metadata": {},
     "outputs": []
    },
    {
     "cell_type": "code",
     "collapsed": false,
     "input": [
      "a = array([1.0, 2.0, 3.0, 4.0, 5.0, 6.0, 7.0, 8.0])"
     ],
     "language": "python",
     "metadata": {},
     "outputs": []
    },
    {
     "cell_type": "code",
     "collapsed": false,
     "input": [
      "b = empty_like(a)\n",
      "cy_dcumsum.dcumsum(a, b)\n",
      "b"
     ],
     "language": "python",
     "metadata": {},
     "outputs": []
    },
    {
     "cell_type": "code",
     "collapsed": false,
     "input": [
      "py_dcumsum(a)"
     ],
     "language": "python",
     "metadata": {},
     "outputs": []
    },
    {
     "cell_type": "code",
     "collapsed": false,
     "input": [
      "a = rand(100000)\n",
      "b = empty_like(a)"
     ],
     "language": "python",
     "metadata": {},
     "outputs": []
    },
    {
     "cell_type": "code",
     "collapsed": false,
     "input": [
      "timeit py_dcumsum(a)"
     ],
     "language": "python",
     "metadata": {},
     "outputs": []
    },
    {
     "cell_type": "code",
     "collapsed": false,
     "input": [
      "timeit cy_dcumsum.dcumsum(a,b)"
     ],
     "language": "python",
     "metadata": {},
     "outputs": []
    },
    {
     "cell_type": "heading",
     "level": 3,
     "metadata": {},
     "source": [
      "Cython in the IPython notebook"
     ]
    },
    {
     "cell_type": "markdown",
     "metadata": {},
     "source": [
      "When working with the IPython (especially in the notebook), there is a more convenient way of compiling and loading Cython code. Using the `%%cython` IPython magic (command to IPython), we can simply type the Cython code in a code cell and let IPython take care of the conversion to C code, compilation and loading of the function. To be able to use the `%%cython` magic, we first need to load the extension `cythonmagic`:"
     ]
    },
    {
     "cell_type": "code",
     "collapsed": false,
     "input": [
      "%load_ext Cython"
     ],
     "language": "python",
     "metadata": {},
     "outputs": []
    },
    {
     "cell_type": "code",
     "collapsed": false,
     "input": [
      "%%cython\n",
      "\n",
      "cimport numpy\n",
      "\n",
      "def cy_dcumsum2(numpy.ndarray[numpy.float64_t, ndim=1] a, numpy.ndarray[numpy.float64_t, ndim=1] b):\n",
      "    cdef int i, n = len(a)\n",
      "    b[0] = a[0]\n",
      "    for i from 1 <= i < n:\n",
      "        b[i] = b[i-1] + a[i]\n",
      "    return b"
     ],
     "language": "python",
     "metadata": {},
     "outputs": []
    },
    {
     "cell_type": "code",
     "collapsed": false,
     "input": [
      "timeit cy_dcumsum2(a,b)"
     ],
     "language": "python",
     "metadata": {},
     "outputs": []
    },
    {
     "cell_type": "heading",
     "level": 3,
     "metadata": {},
     "source": [
      "Further reading"
     ]
    },
    {
     "cell_type": "markdown",
     "metadata": {},
     "source": [
      "* http://cython.org\n",
      "* http://docs.cython.org/src/userguide/tutorial.html\n",
      "* http://wiki.cython.org/tutorials/numpy"
     ]
    }
   ],
   "metadata": {}
  }
 ]
}